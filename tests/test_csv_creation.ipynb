{
 "cells": [
  {
   "cell_type": "code",
   "execution_count": 1,
   "metadata": {},
   "outputs": [],
   "source": [
    "import pandas as pd\n",
    "import os"
   ]
  },
  {
   "cell_type": "code",
   "execution_count": 2,
   "metadata": {},
   "outputs": [],
   "source": [
    "os.chdir(\"../\")"
   ]
  },
  {
   "cell_type": "markdown",
   "metadata": {},
   "source": [
    "# Creating dataframe for testing"
   ]
  },
  {
   "cell_type": "markdown",
   "metadata": {},
   "source": [
    "# dates"
   ]
  },
  {
   "cell_type": "code",
   "execution_count": 3,
   "metadata": {},
   "outputs": [],
   "source": [
    "data = {'month': ['2011-01', '2021-02', '2016-03', '2018-04', '2015-05']}\n",
    "df_input = pd.DataFrame(data)"
   ]
  },
  {
   "cell_type": "code",
   "execution_count": 4,
   "metadata": {},
   "outputs": [
    {
     "data": {
      "text/html": [
       "<div>\n",
       "<style scoped>\n",
       "    .dataframe tbody tr th:only-of-type {\n",
       "        vertical-align: middle;\n",
       "    }\n",
       "\n",
       "    .dataframe tbody tr th {\n",
       "        vertical-align: top;\n",
       "    }\n",
       "\n",
       "    .dataframe thead th {\n",
       "        text-align: right;\n",
       "    }\n",
       "</style>\n",
       "<table border=\"1\" class=\"dataframe\">\n",
       "  <thead>\n",
       "    <tr style=\"text-align: right;\">\n",
       "      <th></th>\n",
       "      <th>month</th>\n",
       "    </tr>\n",
       "  </thead>\n",
       "  <tbody>\n",
       "    <tr>\n",
       "      <th>0</th>\n",
       "      <td>2011-01</td>\n",
       "    </tr>\n",
       "    <tr>\n",
       "      <th>1</th>\n",
       "      <td>2021-02</td>\n",
       "    </tr>\n",
       "    <tr>\n",
       "      <th>2</th>\n",
       "      <td>2016-03</td>\n",
       "    </tr>\n",
       "    <tr>\n",
       "      <th>3</th>\n",
       "      <td>2018-04</td>\n",
       "    </tr>\n",
       "    <tr>\n",
       "      <th>4</th>\n",
       "      <td>2015-05</td>\n",
       "    </tr>\n",
       "  </tbody>\n",
       "</table>\n",
       "</div>"
      ],
      "text/plain": [
       "     month\n",
       "0  2011-01\n",
       "1  2021-02\n",
       "2  2016-03\n",
       "3  2018-04\n",
       "4  2015-05"
      ]
     },
     "execution_count": 4,
     "metadata": {},
     "output_type": "execute_result"
    }
   ],
   "source": [
    "df_input"
   ]
  },
  {
   "cell_type": "code",
   "execution_count": 5,
   "metadata": {},
   "outputs": [],
   "source": [
    "df_input.to_csv(os.path.join(\"data\", \"tests\", \"month_breakdown_input.csv\"))"
   ]
  },
  {
   "cell_type": "code",
   "execution_count": 6,
   "metadata": {},
   "outputs": [
    {
     "data": {
      "text/html": [
       "<div>\n",
       "<style scoped>\n",
       "    .dataframe tbody tr th:only-of-type {\n",
       "        vertical-align: middle;\n",
       "    }\n",
       "\n",
       "    .dataframe tbody tr th {\n",
       "        vertical-align: top;\n",
       "    }\n",
       "\n",
       "    .dataframe thead th {\n",
       "        text-align: right;\n",
       "    }\n",
       "</style>\n",
       "<table border=\"1\" class=\"dataframe\">\n",
       "  <thead>\n",
       "    <tr style=\"text-align: right;\">\n",
       "      <th></th>\n",
       "      <th>month</th>\n",
       "      <th>year</th>\n",
       "    </tr>\n",
       "  </thead>\n",
       "  <tbody>\n",
       "    <tr>\n",
       "      <th>0</th>\n",
       "      <td>01</td>\n",
       "      <td>2011</td>\n",
       "    </tr>\n",
       "    <tr>\n",
       "      <th>1</th>\n",
       "      <td>02</td>\n",
       "      <td>2021</td>\n",
       "    </tr>\n",
       "    <tr>\n",
       "      <th>2</th>\n",
       "      <td>03</td>\n",
       "      <td>2016</td>\n",
       "    </tr>\n",
       "    <tr>\n",
       "      <th>3</th>\n",
       "      <td>04</td>\n",
       "      <td>2018</td>\n",
       "    </tr>\n",
       "    <tr>\n",
       "      <th>4</th>\n",
       "      <td>05</td>\n",
       "      <td>2015</td>\n",
       "    </tr>\n",
       "  </tbody>\n",
       "</table>\n",
       "</div>"
      ],
      "text/plain": [
       "  month  year\n",
       "0    01  2011\n",
       "1    02  2021\n",
       "2    03  2016\n",
       "3    04  2018\n",
       "4    05  2015"
      ]
     },
     "execution_count": 6,
     "metadata": {},
     "output_type": "execute_result"
    }
   ],
   "source": [
    "data = {'month': ['01', '02', '03', '04', '05'], 'year': ['2011', '2021', '2016', '2018', '2015']}\n",
    "df_output = pd.DataFrame(data)\n",
    "df_output"
   ]
  },
  {
   "cell_type": "code",
   "execution_count": 7,
   "metadata": {},
   "outputs": [],
   "source": [
    "df_output.to_csv(os.path.join(\"data\", \"tests\", \"month_breakdown_output.csv\"))"
   ]
  },
  {
   "cell_type": "code",
   "execution_count": 8,
   "metadata": {},
   "outputs": [],
   "source": [
    "import pandas as pd"
   ]
  },
  {
   "cell_type": "code",
   "execution_count": 9,
   "metadata": {},
   "outputs": [
    {
     "data": {
      "text/html": [
       "<div>\n",
       "<style scoped>\n",
       "    .dataframe tbody tr th:only-of-type {\n",
       "        vertical-align: middle;\n",
       "    }\n",
       "\n",
       "    .dataframe tbody tr th {\n",
       "        vertical-align: top;\n",
       "    }\n",
       "\n",
       "    .dataframe thead th {\n",
       "        text-align: right;\n",
       "    }\n",
       "</style>\n",
       "<table border=\"1\" class=\"dataframe\">\n",
       "  <thead>\n",
       "    <tr style=\"text-align: right;\">\n",
       "      <th></th>\n",
       "      <th>year</th>\n",
       "      <th>month</th>\n",
       "      <th>state</th>\n",
       "      <th>permit</th>\n",
       "      <th>handgun</th>\n",
       "      <th>long_gun</th>\n",
       "      <th>returned_to_seller_long_gun</th>\n",
       "      <th>returned_to_seller_hand_gun</th>\n",
       "    </tr>\n",
       "  </thead>\n",
       "  <tbody>\n",
       "    <tr>\n",
       "      <th>0</th>\n",
       "      <td>2020</td>\n",
       "      <td>3</td>\n",
       "      <td>Alabama</td>\n",
       "      <td>31205.0</td>\n",
       "      <td>34897.0</td>\n",
       "      <td>17850.0</td>\n",
       "      <td>2</td>\n",
       "      <td>21</td>\n",
       "    </tr>\n",
       "    <tr>\n",
       "      <th>1</th>\n",
       "      <td>2020</td>\n",
       "      <td>3</td>\n",
       "      <td>Alaska</td>\n",
       "      <td>143.0</td>\n",
       "      <td>4657.0</td>\n",
       "      <td>3819.0</td>\n",
       "      <td>3</td>\n",
       "      <td>2</td>\n",
       "    </tr>\n",
       "    <tr>\n",
       "      <th>2</th>\n",
       "      <td>2020</td>\n",
       "      <td>3</td>\n",
       "      <td>Arizona</td>\n",
       "      <td>5685.0</td>\n",
       "      <td>46377.0</td>\n",
       "      <td>19346.0</td>\n",
       "      <td>5</td>\n",
       "      <td>66</td>\n",
       "    </tr>\n",
       "    <tr>\n",
       "      <th>3</th>\n",
       "      <td>2020</td>\n",
       "      <td>3</td>\n",
       "      <td>Arkansas</td>\n",
       "      <td>2424.0</td>\n",
       "      <td>15304.0</td>\n",
       "      <td>8968.0</td>\n",
       "      <td>6</td>\n",
       "      <td>23</td>\n",
       "    </tr>\n",
       "    <tr>\n",
       "      <th>4</th>\n",
       "      <td>2020</td>\n",
       "      <td>3</td>\n",
       "      <td>California</td>\n",
       "      <td>27792.0</td>\n",
       "      <td>81543.0</td>\n",
       "      <td>48616.0</td>\n",
       "      <td>1</td>\n",
       "      <td>0</td>\n",
       "    </tr>\n",
       "  </tbody>\n",
       "</table>\n",
       "</div>"
      ],
      "text/plain": [
       "   year  month       state   permit  handgun  long_gun  \\\n",
       "0  2020      3     Alabama  31205.0  34897.0   17850.0   \n",
       "1  2020      3      Alaska    143.0   4657.0    3819.0   \n",
       "2  2020      3     Arizona   5685.0  46377.0   19346.0   \n",
       "3  2020      3    Arkansas   2424.0  15304.0    8968.0   \n",
       "4  2020      3  California  27792.0  81543.0   48616.0   \n",
       "\n",
       "   returned_to_seller_long_gun  returned_to_seller_hand_gun  \n",
       "0                            2                           21  \n",
       "1                            3                            2  \n",
       "2                            5                           66  \n",
       "3                            6                           23  \n",
       "4                            1                            0  "
      ]
     },
     "execution_count": 9,
     "metadata": {},
     "output_type": "execute_result"
    }
   ],
   "source": [
    "data = {\n",
    "            \"year\": [2020, 2020, 2020, 2020, 2020],\n",
    "            \"month\": [3, 3, 3, 3, 3],\n",
    "            \"state\": [\"Alabama\", \"Alaska\", \"Arizona\", \"Arkansas\", \"California\"],\n",
    "            \"permit\": [31205.0, 143.0, 5685.0, 2424.0, 27792.0],\n",
    "            \"handgun\": [34897.0, 4657.0, 46377.0, 15304.0, 81543.0],\n",
    "            \"long_gun\": [17850.0, 3819.0, 19346.0, 8968.0, 48616.0],\n",
    "            \"returned_to_seller_long_gun\": [2, 3, 5, 6, 1],\n",
    "            \"returned_to_seller_hand_gun\": [21, 2, 66, 23, 0]\n",
    "        }\n",
    "df = pd.DataFrame(data)\n",
    "df"
   ]
  },
  {
   "cell_type": "code",
   "execution_count": 26,
   "metadata": {},
   "outputs": [],
   "source": [
    "def clean_csv(df: pd.DataFrame) -> pd.DataFrame:\n",
    "    \"\"\"\n",
    "    Cleans the dataset by retaining only the specified columns and prints the column names.\n",
    "\n",
    "\n",
    "    Args:\n",
    "        df (pd.DataFrame): The initial DataFrame to be cleaned.\n",
    "\n",
    "    Returns:\n",
    "        pd.DataFrame: The cleaned DataFrame containing only the specified columns.\n",
    "    \n",
    "    Raises:\n",
    "        KeyError: If any of the specified columns are not found in the DataFrame.\n",
    "\n",
    "    Example:\n",
    "        clean_df = clean_csv(initial_df)\n",
    "    \"\"\"\n",
    "    \n",
    "    cols = [\"month\", \"state\", \"permit\", \"handgun\", \"long_gun\"]\n",
    "    df_clean = df[cols].copy()\n",
    "    \n",
    "    \n",
    "    \n",
    "    # Convert specific columns to int\n",
    "    df_clean[\"permit\"] = pd.to_numeric(df_clean[\"permit\"], errors='coerce').fillna(0).astype(int)\n",
    "    df_clean[\"handgun\"] = pd.to_numeric(df_clean[\"handgun\"], errors='coerce').fillna(0).astype(int)\n",
    "    df_clean[\"long_gun\"] = pd.to_numeric(df_clean[\"long_gun\"], errors='coerce').fillna(0).astype(int)\n",
    "    \n",
    "    print(df.columns)\n",
    "    \n",
    "    return df_clean"
   ]
  },
  {
   "cell_type": "code",
   "execution_count": 17,
   "metadata": {},
   "outputs": [],
   "source": []
  },
  {
   "cell_type": "code",
   "execution_count": 27,
   "metadata": {},
   "outputs": [
    {
     "name": "stdout",
     "output_type": "stream",
     "text": [
      "Index(['year', 'month', 'state', 'permit', 'handgun', 'long_gun',\n",
      "       'returned_to_seller_long_gun', 'returned_to_seller_hand_gun'],\n",
      "      dtype='object')\n"
     ]
    },
    {
     "data": {
      "text/html": [
       "<div>\n",
       "<style scoped>\n",
       "    .dataframe tbody tr th:only-of-type {\n",
       "        vertical-align: middle;\n",
       "    }\n",
       "\n",
       "    .dataframe tbody tr th {\n",
       "        vertical-align: top;\n",
       "    }\n",
       "\n",
       "    .dataframe thead th {\n",
       "        text-align: right;\n",
       "    }\n",
       "</style>\n",
       "<table border=\"1\" class=\"dataframe\">\n",
       "  <thead>\n",
       "    <tr style=\"text-align: right;\">\n",
       "      <th></th>\n",
       "      <th>month</th>\n",
       "      <th>state</th>\n",
       "      <th>permit</th>\n",
       "      <th>handgun</th>\n",
       "      <th>long_gun</th>\n",
       "    </tr>\n",
       "  </thead>\n",
       "  <tbody>\n",
       "    <tr>\n",
       "      <th>0</th>\n",
       "      <td>3</td>\n",
       "      <td>Alabama</td>\n",
       "      <td>31205</td>\n",
       "      <td>34897</td>\n",
       "      <td>17850</td>\n",
       "    </tr>\n",
       "    <tr>\n",
       "      <th>1</th>\n",
       "      <td>3</td>\n",
       "      <td>Alaska</td>\n",
       "      <td>143</td>\n",
       "      <td>4657</td>\n",
       "      <td>3819</td>\n",
       "    </tr>\n",
       "    <tr>\n",
       "      <th>2</th>\n",
       "      <td>3</td>\n",
       "      <td>Arizona</td>\n",
       "      <td>5685</td>\n",
       "      <td>46377</td>\n",
       "      <td>19346</td>\n",
       "    </tr>\n",
       "    <tr>\n",
       "      <th>3</th>\n",
       "      <td>3</td>\n",
       "      <td>Arkansas</td>\n",
       "      <td>2424</td>\n",
       "      <td>15304</td>\n",
       "      <td>8968</td>\n",
       "    </tr>\n",
       "    <tr>\n",
       "      <th>4</th>\n",
       "      <td>3</td>\n",
       "      <td>California</td>\n",
       "      <td>27792</td>\n",
       "      <td>81543</td>\n",
       "      <td>48616</td>\n",
       "    </tr>\n",
       "  </tbody>\n",
       "</table>\n",
       "</div>"
      ],
      "text/plain": [
       "   month       state  permit  handgun  long_gun\n",
       "0      3     Alabama   31205    34897     17850\n",
       "1      3      Alaska     143     4657      3819\n",
       "2      3     Arizona    5685    46377     19346\n",
       "3      3    Arkansas    2424    15304      8968\n",
       "4      3  California   27792    81543     48616"
      ]
     },
     "execution_count": 27,
     "metadata": {},
     "output_type": "execute_result"
    }
   ],
   "source": [
    "df_clean = clean_csv(df)\n",
    "df_clean"
   ]
  },
  {
   "cell_type": "code",
   "execution_count": 12,
   "metadata": {},
   "outputs": [
    {
     "data": {
      "text/plain": [
       "0    34897.0\n",
       "1     4657.0\n",
       "2    46377.0\n",
       "3    15304.0\n",
       "4    81543.0\n",
       "Name: handgun, dtype: float64"
      ]
     },
     "execution_count": 12,
     "metadata": {},
     "output_type": "execute_result"
    }
   ],
   "source": [
    "df_clean[\"handgun\"]"
   ]
  }
 ],
 "metadata": {
  "kernelspec": {
   "display_name": "cienciaDatos",
   "language": "python",
   "name": "python3"
  },
  "language_info": {
   "codemirror_mode": {
    "name": "ipython",
    "version": 3
   },
   "file_extension": ".py",
   "mimetype": "text/x-python",
   "name": "python",
   "nbconvert_exporter": "python",
   "pygments_lexer": "ipython3",
   "version": "3.10.14"
  }
 },
 "nbformat": 4,
 "nbformat_minor": 2
}
